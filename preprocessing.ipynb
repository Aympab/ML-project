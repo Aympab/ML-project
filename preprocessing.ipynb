{
 "cells": [
  {
   "cell_type": "code",
   "execution_count": 2,
   "metadata": {},
   "outputs": [],
   "source": [
    "import numpy as np\n",
    "import pandas as pd\n",
    "import matplotlib.pyplot as plt\n",
    "\n",
    "X = np.loadtxt(\"starting_kit/data/protein_train.data\")\n",
    "X_test = np.loadtxt(\"starting_kit/data/protein_test.data\")\n",
    "X_valid = np.loadtxt(\"starting_kit/data/protein_valid.data\")\n",
    "\n",
    "full_data = np.concatenate((X, X_test, X_valid))"
   ]
  },
  {
   "cell_type": "code",
   "execution_count": 57,
   "metadata": {},
   "outputs": [],
   "source": [
    "#Normalisation de la matrice\n",
    "row_sums = X.sum(axis=1)\n",
    "normalized_data = X / row_sums[:, np.newaxis]\n",
    "\n",
    "#SVD computation and plotting the eigenvalues\n",
    "U, S, V = np.linalg.svd(normalized_data, full_matrices=False)\n",
    "\n",
    "print(\"Number of singular values: {}\".format(len(S)))\n",
    "print(\"Max, min singular values: {}, {}\".format(S[0], S[-1]))\n",
    "\n",
    "plt.xlabel('$i$')\n",
    "plt.ylabel('$\\sigma_i$')\n",
    "plt.title('Singular values')\n",
    "plt.yscale('log')\n",
    "plt.plot(S, 'bo');"
   ]
  },
  {
   "cell_type": "code",
   "execution_count": 49,
   "metadata": {},
   "outputs": [
    {
     "data": {
      "text/plain": [
       "[<matplotlib.lines.Line2D at 0x19cbc414f70>]"
      ]
     },
     "execution_count": 49,
     "metadata": {},
     "output_type": "execute_result"
    },
    {
     "data": {
      "image/png": "[encoded data removed]",
      "text/plain": [
       "<Figure size 432x288 with 1 Axes>"
      ]
     },
     "metadata": {
      "needs_background": "light"
     },
     "output_type": "display_data"
    }
   ],
   "source": [
    "plt.xlabel('$i$')\n",
    "plt.ylabel('$\\sigma_i$')\n",
    "plt.title('15% Singular values')\n",
    "plt.yscale('log')\n",
    "plt.plot(S[:int(0.15*len(S))], 'bo')"
   ]
  },
  {
   "cell_type": "code",
   "execution_count": 55,
   "metadata": {},
   "outputs": [],
   "source": []
  },
  {
   "cell_type": "code",
   "execution_count": 56,
   "metadata": {},
   "outputs": [
    {
     "name": "stdout",
     "output_type": "stream",
     "text": [
      "50568336\n"
     ]
    }
   ],
   "source": []
  }
 ],
 "metadata": {
  "interpreter": {
   "hash": "acb77cfd0caafe1fb7be5ed5e46e9f9c8ca50c2e85ab866fdd2f52b1c2112c88"
  },
  "kernelspec": {
   "display_name": "Python 3.10.1 64-bit ('projet-ml': conda)",
   "language": "python",
   "name": "python3"
  },
  "language_info": {
   "codemirror_mode": {
    "name": "ipython",
    "version": 3
   },
   "file_extension": ".py",
   "mimetype": "text/x-python",
   "name": "python",
   "nbconvert_exporter": "python",
   "pygments_lexer": "ipython3",
   "version": "3.10.1"
  },
  "orig_nbformat": 4
 },
 "nbformat": 4,
 "nbformat_minor": 2
}
