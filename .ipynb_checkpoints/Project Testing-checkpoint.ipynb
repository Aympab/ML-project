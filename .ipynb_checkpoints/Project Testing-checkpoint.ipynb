{
 "cells": [
  {
   "cell_type": "code",
   "execution_count": 1,
   "id": "100ab686",
   "metadata": {},
   "outputs": [
    {
     "ename": "ModuleNotFoundError",
     "evalue": "No module named 'xgboost'",
     "output_type": "error",
     "traceback": [
      "\u001b[1;31m---------------------------------------------------------------------------\u001b[0m",
      "\u001b[1;31mModuleNotFoundError\u001b[0m                       Traceback (most recent call last)",
      "\u001b[1;32mC:\\Users\\EDUARD~1.VIT\\AppData\\Local\\Temp/ipykernel_18904/286196113.py\u001b[0m in \u001b[0;36m<module>\u001b[1;34m\u001b[0m\n\u001b[0;32m      1\u001b[0m \u001b[1;32mfrom\u001b[0m \u001b[0msklearn\u001b[0m\u001b[1;33m.\u001b[0m\u001b[0mmodel_selection\u001b[0m \u001b[1;32mimport\u001b[0m \u001b[0mtrain_test_split\u001b[0m\u001b[1;33m\u001b[0m\u001b[1;33m\u001b[0m\u001b[0m\n\u001b[1;32m----> 2\u001b[1;33m \u001b[1;32mimport\u001b[0m \u001b[0mxgboost\u001b[0m \u001b[1;32mas\u001b[0m \u001b[0mxgb\u001b[0m\u001b[1;33m\u001b[0m\u001b[1;33m\u001b[0m\u001b[0m\n\u001b[0m\u001b[0;32m      3\u001b[0m \u001b[1;32mfrom\u001b[0m \u001b[0msklearn\u001b[0m\u001b[1;33m.\u001b[0m\u001b[0mensemble\u001b[0m \u001b[1;32mimport\u001b[0m \u001b[0mAdaBoostRegressor\u001b[0m\u001b[1;33m\u001b[0m\u001b[1;33m\u001b[0m\u001b[0m\n\u001b[0;32m      4\u001b[0m \u001b[1;32mfrom\u001b[0m \u001b[0msklearn\u001b[0m\u001b[1;33m.\u001b[0m\u001b[0mtree\u001b[0m \u001b[1;32mimport\u001b[0m \u001b[0mDecisionTreeRegressor\u001b[0m\u001b[1;33m\u001b[0m\u001b[1;33m\u001b[0m\u001b[0m\n\u001b[0;32m      5\u001b[0m \u001b[1;32mfrom\u001b[0m \u001b[0msklearn\u001b[0m\u001b[1;33m.\u001b[0m\u001b[0mensemble\u001b[0m \u001b[1;32mimport\u001b[0m \u001b[0mRandomForestRegressor\u001b[0m\u001b[1;33m\u001b[0m\u001b[1;33m\u001b[0m\u001b[0m\n",
      "\u001b[1;31mModuleNotFoundError\u001b[0m: No module named 'xgboost'"
     ]
    }
   ],
   "source": [
    "from sklearn.model_selection import train_test_split\n",
    "import xgboost as xgb\n",
    "from sklearn.ensemble import AdaBoostRegressor\n",
    "from sklearn.tree import DecisionTreeRegressor\n",
    "from sklearn.ensemble import RandomForestRegressor\n",
    "from sklearn.neighbors import KNeighborsRegressor\n",
    "from sklearn.svm import SVR\n",
    "\n",
    "from sklearn.metrics import mean_absolute_error, r2_score\n",
    "from sklearn.model_selection import GridSearchCV\n",
    "from sklearn.preprocessing import RobustScaler"
   ]
  },
  {
   "cell_type": "code",
   "execution_count": null,
   "id": "927324bc",
   "metadata": {},
   "outputs": [],
   "source": []
  },
  {
   "cell_type": "code",
   "execution_count": null,
   "id": "feb5171f",
   "metadata": {},
   "outputs": [],
   "source": [
    "X_train, X_test, y_train, y_test = train_test_split(X,Y,random_state=0, test_size=0.2)\n",
    "scaler = RobustScaler().fit(X_train)\n",
    "X_train_scaled = scaler.transform(X_train)\n",
    "X_test_scaled = scaler.transform(X_test)"
   ]
  },
  {
   "cell_type": "code",
   "execution_count": null,
   "id": "b03be6ff",
   "metadata": {},
   "outputs": [],
   "source": [
    "# XGboost\n",
    "tuned_parameters = [{'max_depth': [5,10, 15, 20, 25, 30],'learning_rate':[0.001, 0.01, 0.1, 0.5], 'n_estimators': [100,150,200, 250, 300]}]\n",
    "MSE_xgb = ['mean_squared_error(y_test,y_pred2)']\n",
    "for value in MSE_xgb:\n",
    "    regr = GridSearchCV(xgb.XGBRegressor(), tuned_parameters, cv=4, n_jobs=-1)\n",
    "    regr.fit(X_train, y_train)\n",
    "    y_true, y_pred2 = y_test, regr.predict(X_test)\n",
    "    \n",
    "print('The best hyper-parameters for XGBBoost are: ',regr.best_params_)"
   ]
  },
  {
   "cell_type": "code",
   "execution_count": null,
   "id": "2cb54e62",
   "metadata": {},
   "outputs": [],
   "source": [
    "# Random Forests\n",
    "tuned_parameters = [{'max_depth': [5,10, 15, 20, 50, 70], 'n_estimators': [10, 25, 50, 100,150, 200, 250]}]\n",
    "MSE_rf = ['mean_squared_error(y_test, y_pred5)']\n",
    "for value in MSE_rf:\n",
    "    regr_rf = GridSearchCV(RandomForestRegressor(), tuned_parameters, cv=4, n_jobs=-1)\n",
    "    regr_rf.fit(X_train, y_train)\n",
    "    y_true, y_pred5 = y_test, regr_rf.predict(X_test)\n",
    "    \n",
    "print('The best hyper-parameters for Random Forests are: ',regr_rf.best_params_)"
   ]
  },
  {
   "cell_type": "code",
   "execution_count": null,
   "id": "c87b0519",
   "metadata": {},
   "outputs": [],
   "source": [
    "#KNN\n",
    "tuned_parameters = [{'n_neighbors': [1,2,3,4,5,10,15,20], 'p': [1,2]}]\n",
    "MSE_knn = ['mean_squared_error(y_test,y_pred6)']\n",
    "for i in MSE_knn:\n",
    "    model = GridSearchCV(KNeighborsRegressor(), tuned_parameters, cv=4)\n",
    "    model.fit(X_train_scaled, y_train)\n",
    "    y_true, y_pred6 = y_test, model.predict(X_test_scaled)\n",
    "    \n",
    "print('The best hyper-parameters for KNN are: ', model.best_params_)"
   ]
  },
  {
   "cell_type": "code",
   "execution_count": null,
   "id": "57a029e5",
   "metadata": {},
   "outputs": [],
   "source": [
    "# SVM\n",
    "tuned_parameters = [{'kernel': ['linear', 'rbf', 'poly'], 'C':[1, 2, 3, 5, 6, 7, 10], 'gamma': [0.0001, 0.001, 0.01, 0.1, 1]}]\n",
    "MSE_svm = ['mean_squared_error(y_test,y_pred7)']\n",
    "for value in MSE_svm:\n",
    "    svr_regr = GridSearchCV(SVR(), tuned_parameters, cv=4, n_jobs=-1)\n",
    "    svr_regr.fit(X_train_scaled, y_train)\n",
    "    y_true, y_pred7 = y_test, svr_regr.predict(X_test_scaled)\n",
    "    \n",
    "print('The best hyper-parameters for SVR are: ', svr_regr.best_params_)"
   ]
  },
  {
   "cell_type": "code",
   "execution_count": null,
   "id": "c33531bc",
   "metadata": {},
   "outputs": [],
   "source": [
    "# Decision Tree\n",
    "tuned_parameters = [{'max_depth': [1,2,3,4,5,10, 15, 20, 25, 50, 100,200]}]\n",
    "MSE_dt = ['mean_squared_error(y_test,y_pred4)']\n",
    "for value in MSE_dt:\n",
    "    regressor_dt = GridSearchCV(DecisionTreeRegressor(), tuned_parameters, cv=4, n_jobs=-1)\n",
    "    regressor_dt.fit(X_train, y_train)\n",
    "    y_true, y_pred4 = y_test, regressor_dt.predict(X_test)\n",
    "    \n",
    "print('The optimum max_depth for Decision Tree is: ', regressor_dt.best_params_ )"
   ]
  },
  {
   "cell_type": "code",
   "execution_count": null,
   "id": "c934dea0",
   "metadata": {},
   "outputs": [],
   "source": [
    "# GP\n",
    "tuned_parameters = [{'alpha': [0,0.01,0.1,0.5,1,5], 'kernel': [kernel1,kernel2,kernel3,kernel4,kernel5,kernel6], \n",
    "                   'n_restarts_optimizer':[7], 'normalize_y': [True]}]\n",
    "MSE_ada = ['mean_squared_error(y_test,y_pred8)']\n",
    "for value in MSE_ada:\n",
    "    gpregr = GridSearchCV(GaussianProcessRegressor(), tuned_parameters, cv=4, n_jobs=-1)\n",
    "    gpregr.fit(X_train_scaled, y_train)\n",
    "    y_true, y_pred8 = y_test, gpregr.predict(X_test_scaled)\n",
    "    \n",
    "print('The best hyper-parameters for GPR are: ', gpregr.best_params_ )"
   ]
  },
  {
   "cell_type": "code",
   "execution_count": null,
   "id": "169db4be",
   "metadata": {},
   "outputs": [],
   "source": [
    "# XGBoost\n",
    "regr = xgb.XGBRegressor(learning_rate=0.1, max_depth=15, n_estimators=200, random_state = 0)\n",
    "regr.fit(X_train, y_train)\n",
    "y_pred1 = regr.predict(X_test)              \n",
    "print('XGBoost Regressor :mean_absolute_error/ r^2', mean_absolute_error(y_test,y_pred1), r2_score(y_test,y_pred1))\n",
    "\n",
    "# Decision Tree\n",
    "regressor_dt = DecisionTreeRegressor(random_state=0, max_depth = 20)\n",
    "regressor_dt.fit(X_train,y_train)\n",
    "y_pred2 = regressor_dt.predict(X_test)        # Decision Tree\n",
    "print('Decision Tree Regressor :mean_absolute_error/ r^2', mean_absolute_error(y_test,y_pred2), r2_score(y_test,y_pred2))\n",
    "\n",
    "# Random Forests\n",
    "regr_rf = RandomForestRegressor(max_depth=15, random_state=0, n_estimators=200)\n",
    "regr_rf.fit(X_train, y_train)\n",
    "y_pred3 = regr_rf.predict(X_test)           \n",
    "print('Random Forests Regressor -mean_absolute_error/ r^2:', mean_absolute_error(y_test,y_pred3), r2_score(y_test,y_pred3))\n",
    "\n",
    "# Linear Regression\n",
    "regressor = LinearRegression()\n",
    "regressor.fit(X_train_scaled, y_train)\n",
    "y_pred4 = regr.predict(X_test_scaled)           \n",
    "print('Linear Regressor :mean_absolute_error/ r^2', mean_absolute_error(y_test,y_pred4), r2_score(y_test,y_pred4))\n",
    "\n",
    "# KNN\n",
    "neigh = KNeighborsRegressor(n_neighbors = 4, metric = 'minkowski', p = 1)\n",
    "neigh.fit(X_train_scaled, y_train)\n",
    "y_pred5 = neigh.predict(X_test_scaled)        # KNN\n",
    "print('KNN Regressor :mean_absolute_error/ r^2:', mean_absolute_error(y_test,y_pred5), r2_score(y_test,y_pred5))\n",
    "\n",
    "# SVR\n",
    "svr_regr = SVR(gamma=1, kernel = 'rbf', C=10)\n",
    "svr_regr.fit(X_train_scaled, y_train)\n",
    "y_pred6 = svr_regr.predict(X_test_scaled)     # SVR\n",
    "print('SVR Regressor :mean_absolute_error/ r^2:', mean_absolute_error(y_test,y_pred6), r2_score(y_test,y_pred6))\n",
    "\n",
    "# GPR\n",
    "gp = GaussianProcessRegressor(kernel=kernel4, n_restarts_optimizer=9, alpha=0.01, normalize_y=True)\n",
    "gp.fit(X_train_scaled, y_train)\n",
    "y_pred8 = gp.predict(X_test_scaled)         \n",
    "print('GP Regressor :mean_absolute_error/ r^2:', mean_absolute_error(y_test,y_pred8), r2_score(y_test,y_pred8))"
   ]
  }
 ],
 "metadata": {
  "kernelspec": {
   "display_name": "Python 3 (ipykernel)",
   "language": "python",
   "name": "python3"
  },
  "language_info": {
   "codemirror_mode": {
    "name": "ipython",
    "version": 3
   },
   "file_extension": ".py",
   "mimetype": "text/x-python",
   "name": "python",
   "nbconvert_exporter": "python",
   "pygments_lexer": "ipython3",
   "version": "3.9.7"
  }
 },
 "nbformat": 4,
 "nbformat_minor": 5
}
