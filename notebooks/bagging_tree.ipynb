{
 "cells": [
  {
   "cell_type": "code",
   "execution_count": 1,
   "metadata": {},
   "outputs": [],
   "source": [
    "import sklearn as sk\n",
    "import numpy as np\n",
    "import matplotlib.pyplot as plt\n",
    "import pandas as pd\n",
    "from zipfile import ZipFile\n",
    "from sklearn import ensemble\n",
    "from sklearn import model_selection, metrics"
   ]
  },
  {
   "cell_type": "code",
   "execution_count": 4,
   "metadata": {},
   "outputs": [],
   "source": [
    "X = np.loadtxt(\"../starting_kit/data/protein_train.data\")\n",
    "y = np.loadtxt(\"../starting_kit/data/protein_train.solution\")\n",
    "\n",
    "X_test = np.loadtxt(\"../starting_kit/data/protein_test.data\")\n",
    "X_valid = np.loadtxt(\"../starting_kit/data/protein_valid.data\")"
   ]
  },
  {
   "cell_type": "code",
   "execution_count": 5,
   "metadata": {},
   "outputs": [
    {
     "name": "stdout",
     "output_type": "stream",
     "text": [
      "Fitting 10 folds for each of 1 candidates, totalling 10 fits\n"
     ]
    },
    {
     "data": {
      "text/plain": [
       "GridSearchCV(cv=10, estimator=BaggingClassifier(), n_jobs=2,\n",
       "             param_grid={'max_features': [1.0], 'max_samples': [0.9],\n",
       "                         'n_estimators': [10]},\n",
       "             verbose=1)"
      ]
     },
     "execution_count": 5,
     "metadata": {},
     "output_type": "execute_result"
    }
   ],
   "source": [
    "\n",
    "\n",
    "bag = ensemble.BaggingClassifier()\n",
    "param_grid = {\n",
    "    'max_features': [0.5],\n",
    "    'max_samples': [0.7],\n",
    "    'n_estimators': [10],\n",
    "}\n",
    "cv_bagging = model_selection.GridSearchCV(bag, param_grid=param_grid, cv=10, verbose=1, n_jobs=2)\n",
    "\n",
    "cv_bagging.fit(X, y)"
   ]
  },
  {
   "cell_type": "code",
   "execution_count": 6,
   "metadata": {},
   "outputs": [
    {
     "data": {
      "text/plain": [
       "0.9904552129221733"
      ]
     },
     "execution_count": 6,
     "metadata": {},
     "output_type": "execute_result"
    }
   ],
   "source": [
    "#Ici typiquement on est en overfit\n",
    "cv_bagging.score(X,y)"
   ]
  },
  {
   "cell_type": "code",
   "execution_count": 7,
   "metadata": {},
   "outputs": [],
   "source": [
    "y_test = cv_bagging.predict(X_test)\n",
    "y_valid = cv_bagging.predict(X_valid)\n",
    "\n",
    "np.savetxt(\"protein_test.predict\", y_test, fmt=\"%d\")\n",
    "np.savetxt(\"protein_valid.predict\", y_valid, fmt=\"%d\")\n",
    "zip_obj = ZipFile('submission.zip', 'w')\n",
    "zip_obj.write(\"protein_test.predict\")\n",
    "zip_obj.write(\"protein_valid.predict\")\n",
    "\n",
    "zip_obj.close()"
   ]
  }
 ],
 "metadata": {
  "interpreter": {
   "hash": "acb77cfd0caafe1fb7be5ed5e46e9f9c8ca50c2e85ab866fdd2f52b1c2112c88"
  },
  "kernelspec": {
   "display_name": "Python 3.10.1 64-bit ('projet-ml': conda)",
   "language": "python",
   "name": "python3"
  },
  "language_info": {
   "codemirror_mode": {
    "name": "ipython",
    "version": 3
   },
   "file_extension": ".py",
   "mimetype": "text/x-python",
   "name": "python",
   "nbconvert_exporter": "python",
   "pygments_lexer": "ipython3",
   "version": "3.10.1"
  },
  "orig_nbformat": 4
 },
 "nbformat": 4,
 "nbformat_minor": 2
}
